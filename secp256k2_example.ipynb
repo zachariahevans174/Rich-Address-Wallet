{
  "nbformat": 4,
  "nbformat_minor": 0,
  "metadata": {
    "colab": {
      "provenance": [],
      "include_colab_link": true
    },
    "kernelspec": {
      "name": "python3",
      "display_name": "Python 3"
    },
    "language_info": {
      "name": "python"
    }
  },
  "cells": [
    {
      "cell_type": "markdown",
      "metadata": {
        "id": "view-in-github",
        "colab_type": "text"
      },
      "source": [
        "<a href=\"https://colab.research.google.com/github/zachariahevans174/Rich-Address-Wallet/blob/main/secp256k2_example.ipynb\" target=\"_parent\"><img src=\"https://colab.research.google.com/assets/colab-badge.svg\" alt=\"Open In Colab\"/></a>"
      ]
    },
    {
      "cell_type": "markdown",
      "source": [
        "# SECP256k2: A Modern Library for Elliptic Curve Cryptography\n",
        "\n",
        "[![Google Colab](https://img.shields.io/badge/Google_Clab-Run_Now-50AF95?style=plastic)](https://colab.research.google.com/drive/1cYAahMj6n03I3yA5DnDVwbxhDbg9nuwA?usp=sharing) [![PyPI - Downloads](https://img.shields.io/pypi/dd/secp256k1?style=plastic&color=0075A8)](https://pypi.org/project/secp256k2/ 'PyPI - SECP256K2 - Download Per Day')  [![GitHub closed pull requests](https://img.shields.io/github/issues-pr-closed/secp256k2/secp256k2?style=plastic&color=CA4245)\n",
        "](https://github.com/secp256k2/secp256k2/pulls) [![GitHub issues](https://img.shields.io/github/issues-raw/secp256k2/secp256k2?style=plastic&color=CA4245)](https://github.com/secp256k2/secp256k2/issues) [![PyPI - License](https://img.shields.io/pypi/l/secp256k2?color=50AF95)](https://github.com/secp256k2/secp256k2/blob/main/LICENSE)\n",
        " [![PyPI - Status](https://img.shields.io/pypi/status/SECP256K2?style=plastic&color=50AF95)\n",
        "](https://pypi.org/project/secp256k2/) [![Read the Docs](https://img.shields.io/readthedocs/secp256k2?color=50AF95)\n",
        "](https://secp256k2.readthedocs.io/en/latest/) [![programmer Official Website](https://img.shields.io/badge/Programmer_Website-Mmdrza.Com-0075A8?style=plastic)](https://mmdrza.com) [![](https://img.shields.io/badge/Donate_-Bitcoin_Wallet-F7931A?style=plastic&logo=bitcoin)](https://github.com/secp256k2/secp256k2#donate)\n",
        "\n",
        "\n",
        "### Installation\n",
        "\n",
        "#### windows with `pip`\n",
        "```bash\n",
        "pip install --upgrade secp256k2\n",
        "```\n",
        "\n",
        "#### linux and Mac with `pip3`\n",
        "```bash\n",
        "pip3 install --upgrade secp256k2\n",
        "```"
      ],
      "metadata": {
        "id": "ipK5nSwBS9vK"
      }
    },
    {
      "cell_type": "markdown",
      "source": [
        "## Example Private key decimal To compressed and uncompressed , P2SH , Bech32 Address"
      ],
      "metadata": {
        "id": "O4l6v2vTxPy1"
      }
    },
    {
      "cell_type": "code",
      "source": [
        "!pip install --upgrade secp256k2\n",
        "from secp256k2 import Contactor\n",
        "\n",
        "cont = Contactor()\n",
        "\n",
        "# // Private Key (Decimal)\n",
        "private_dec = 123456789123456789123456789987654321123456789\n",
        "# // Compressed Address From Private Key\n",
        "compress_address = cont.privatekey_to_address(0, True, private_dec)\n",
        "# // Uncompressed Address From Private Key\n",
        "uncompress_address = cont.privatekey_to_address(0, False, private_dec)\n",
        "# // P2SH Address\n",
        "p2sh_address = cont.privatekey_to_address(1, True, private_dec)\n",
        "# // BECH32 Address\n",
        "bech32_address = cont.privatekey_to_address(2, True, private_dec)\n",
        "# // -------------------------------------------------------------\n",
        "print(f\"\\n\\nDEC: {private_dec}\\nHEX: {'%064x' % private_dec}\\nCompressed : {compress_address}\\nUncompressed : {uncompress_address}\\nP2SH : {p2sh_address}\\nBECH32 (P2WPKH) : {bech32_address}\")"
      ],
      "metadata": {
        "colab": {
          "base_uri": "https://localhost:8080/"
        },
        "id": "z_RRLVCaugDw",
        "outputId": "2062dace-4ae0-46b4-91cd-070199264d35"
      },
      "execution_count": 1,
      "outputs": [
        {
          "output_type": "stream",
          "name": "stdout",
          "text": [
            "Collecting secp256k2\n",
            "  Downloading secp256k2-1.4.6-py3-none-any.whl (6.2 MB)\n",
            "\u001b[2K     \u001b[90m━━━━━━━━━━━━━━━━━━━━━━━━━━━━━━━━━━━━━━━━\u001b[0m \u001b[32m6.2/6.2 MB\u001b[0m \u001b[31m9.3 MB/s\u001b[0m eta \u001b[36m0:00:00\u001b[0m\n",
            "\u001b[?25hInstalling collected packages: secp256k2\n",
            "Successfully installed secp256k2-1.4.6\n",
            "\n",
            "\n",
            "DEC: 123456789123456789123456789987654321123456789\n",
            "HEX: 00000000000000000000000000058936e53d139afefabb268fef8fca22a57715\n",
            "Compressed : 1JUQev2uTa41aLbg37QcretvoDi9p7uXmL\n",
            "Uncompressed : 1MGyTu6zRcVUA3YJHsMWT2awTgPi3P38Du\n",
            "P2SH : 38gNqLbrRKFoKfKibtwZe9LSv6NqiK9vnU\n",
            "BECH32 (P2WPKH) : bc1qh7536jvt47en67p4kkm2t633upqwkcnkexek3d\n"
          ]
        }
      ]
    },
    {
      "cell_type": "markdown",
      "source": [
        "## Check Speed Generate 1000 Key to Compressed and Uncompressed Address\n"
      ],
      "metadata": {
        "id": "qtb00EBtyCUA"
      }
    },
    {
      "cell_type": "markdown",
      "source": [
        "first run this command , just test speed generated:"
      ],
      "metadata": {
        "id": "0fjW0eYBmDJC"
      }
    },
    {
      "cell_type": "code",
      "source": [
        "!pip install secp256k2"
      ],
      "metadata": {
        "id": "VgTeeSk_mS4O",
        "colab": {
          "base_uri": "https://localhost:8080/"
        },
        "outputId": "dda2b4ae-cf2e-474f-f3d5-abf3e2adc600"
      },
      "execution_count": 2,
      "outputs": [
        {
          "output_type": "stream",
          "name": "stdout",
          "text": [
            "Requirement already satisfied: secp256k2 in /usr/local/lib/python3.10/dist-packages (1.4.6)\n"
          ]
        }
      ]
    },
    {
      "cell_type": "code",
      "source": [
        "import os, timeit\n",
        "\n",
        "setup_code = \"\"\"\n",
        "from os import urandom\n",
        "from secp256k2 import Contactor\n",
        "\n",
        "cont = Contactor()\n",
        "\n",
        "def test_Profile_1():\n",
        "    numd = urandom(32)[0]\n",
        "    caddr = cont.privatekey_to_address(0, True, numd)\n",
        "    uaddr = cont.privatekey_to_address(0, False, numd)\n",
        "\"\"\"\n",
        "\n",
        "# // Total Generated\n",
        "num = 10000\n",
        "\n",
        "time1 = timeit.timeit(\"test_Profile_1()\", setup=setup_code, number=num)\n",
        "\n",
        "\n",
        "print(f\"Generated and Convereted {format(num, ',')} Key To Uncompressed and Compressed Bitcoin Address Wallet in : {time1:.6f} sec\")"
      ],
      "metadata": {
        "colab": {
          "base_uri": "https://localhost:8080/"
        },
        "id": "m5KtYBh5yXqL",
        "outputId": "49fd6406-24c0-4f70-87ae-b33694dbf8f8"
      },
      "execution_count": 3,
      "outputs": [
        {
          "output_type": "stream",
          "name": "stdout",
          "text": [
            "Generated and Convereted 10,000 Key To Uncompressed and Compressed Bitcoin Address Wallet in : 0.387881 sec\n"
          ]
        }
      ]
    }
  ]
}